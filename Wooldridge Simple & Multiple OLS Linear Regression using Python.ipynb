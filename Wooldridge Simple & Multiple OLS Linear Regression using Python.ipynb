{
 "cells": [
  {
   "cell_type": "markdown",
   "id": "a848d197-b709-4a4a-804a-d53981c3e9e0",
   "metadata": {},
   "source": [
    "# Wooldridge Simple & Multiple OLS Linear Regression using Python\n",
    "**Author:**\n",
    "Brahim Zirari <br>\n",
    "**Version:**\n",
    "Python 3.13.5 <br>\n",
    "**Topic:** <br>\n",
    "* This notebook contains an example about simple & Multiple linear regression model as well as diagnostics from Introductory Econometrics: A Modern Approach, 5e by Jeffrey M. Wooldridge. <br>\n",
    "**Source** Book. \n",
    "<a href = \"https://www.amazon.com/Introductory-Econometrics-Modern-Approach-Economics/dp/1111531048\" > Click here </a>"
   ]
  },
  {
   "cell_type": "markdown",
   "id": "cdc49e59-6f7d-47d3-bf40-5d9ec3458b4e",
   "metadata": {},
   "source": [
    "# Import Important Libraries"
   ]
  },
  {
   "cell_type": "code",
   "execution_count": 7,
   "id": "f7f98071-ab6c-4681-ae24-9691814d4fe9",
   "metadata": {},
   "outputs": [],
   "source": [
    "import pandas as pd\n",
    "import numpy as np\n",
    "import matplotlib.pyplot as plt\n",
    "#to draw multiple plots\n",
    "%matplotlib inline    "
   ]
  },
  {
   "cell_type": "markdown",
   "id": "148b5431-a8da-4993-b3cf-e5fc4922f0b4",
   "metadata": {},
   "source": [
    "# Now, install and load the wooldridge package and lets get started!"
   ]
  },
  {
   "cell_type": "markdown",
   "id": "fed8958d-bf82-4f7b-aef1-c631bfffeb69",
   "metadata": {},
   "source": [
    "# Chapter 2: The Simple Regression Model\n",
    "**Example 2.2:** a Simple Wage equation <br>\n",
    "\n",
    "**A model relating a person’s wage to observed education and other unobserved factors is** <br>\n",
    "\n",
    "$$\n",
    "wage_i = {\\beta}_0 + {\\beta}_1 \\, educ_i + u_i\n",
    "$$\n",
    "\n",
    "**wage is measured in dollars per hour** <br>\n",
    "**educ is years of education, then b1 measures:** <br>\n",
    "The change in hourly wage given another year of education, holding all other factors fixed.\n",
    "Some of those factors include labor force experience, innate ability, tenure with current\n",
    "employer, work ethic, and numerous other things. <br>"
   ]
  },
  {
   "cell_type": "code",
   "execution_count": 2,
   "id": "85ee7d0a-e166-4a62-8f5d-3f95a17105f6",
   "metadata": {},
   "outputs": [],
   "source": [
    "#!pip install wooldridge\n",
    "import wooldridge as wl"
   ]
  },
  {
   "cell_type": "code",
   "execution_count": 4,
   "id": "bdbf8171-121d-4d1d-8fef-844cd3f120f2",
   "metadata": {},
   "outputs": [
    {
     "name": "stdout",
     "output_type": "stream",
     "text": [
      "['__all__', '__author__', '__builtins__', '__cached__', '__copyright__', '__doc__', '__file__', '__loader__', '__name__', '__package__', '__path__', '__spec__', '__version__', 'abspath', 'data', 'dataWoo', 'join', 'load_data', 'lst', 'os', 'pd', 'split']\n"
     ]
    }
   ],
   "source": [
    "print(dir(wl))"
   ]
  },
  {
   "cell_type": "code",
   "execution_count": 5,
   "id": "155ca93f-c7db-4fc2-9a21-6266a109f126",
   "metadata": {},
   "outputs": [
    {
     "name": "stdout",
     "output_type": "stream",
     "text": [
      "Help on package wooldridge:\n",
      "\n",
      "NAME\n",
      "    wooldridge - Github page: https://github.com/spring-haru/wooldridge\n",
      "\n",
      "PACKAGE CONTENTS\n",
      "    datasets (package)\n",
      "    description (package)\n",
      "    load_data\n",
      "\n",
      "FUNCTIONS\n",
      "    data(name=None, description=False)\n",
      "\n",
      "    dataWoo(name=None, description=False)\n",
      "\n",
      "DATA\n",
      "    __all__ = ['data', 'dataWoo']\n",
      "    __copyright__ = 'Copyright (c) 2024 Tetsu Haruyama'\n",
      "\n",
      "VERSION\n",
      "    0.4.5\n",
      "\n",
      "AUTHOR\n",
      "    Tetsu Haruyama\n",
      "\n",
      "FILE\n",
      "    c:\\anaconda\\lib\\site-packages\\wooldridge\\__init__.py\n",
      "\n",
      "\n",
      "None\n"
     ]
    }
   ],
   "source": [
    "print(help(wl))"
   ]
  },
  {
   "cell_type": "markdown",
   "id": "2f34ff00-9766-4ce7-bbc8-c58d97babde6",
   "metadata": {},
   "source": [
    "Load the wage1 data and check out the documentation."
   ]
  },
  {
   "cell_type": "code",
   "execution_count": 3,
   "id": "d5e27c8d-96e8-4df4-944c-3315ade11c49",
   "metadata": {},
   "outputs": [
    {
     "name": "stdout",
     "output_type": "stream",
     "text": [
      "name of dataset: wage1\n",
      "no of variables: 24\n",
      "no of observations: 526\n",
      "\n",
      "+----------+---------------------------------+\n",
      "| variable | label                           |\n",
      "+----------+---------------------------------+\n",
      "| wage     | average hourly earnings         |\n",
      "| educ     | years of education              |\n",
      "| exper    | years potential experience      |\n",
      "| tenure   | years with current employer     |\n",
      "| nonwhite | =1 if nonwhite                  |\n",
      "| female   | =1 if female                    |\n",
      "| married  | =1 if married                   |\n",
      "| numdep   | number of dependents            |\n",
      "| smsa     | =1 if live in SMSA              |\n",
      "| northcen | =1 if live in north central U.S |\n",
      "| south    | =1 if live in southern region   |\n",
      "| west     | =1 if live in western region    |\n",
      "| construc | =1 if work in construc. indus.  |\n",
      "| ndurman  | =1 if in nondur. manuf. indus.  |\n",
      "| trcommpu | =1 if in trans, commun, pub ut  |\n",
      "| trade    | =1 if in wholesale or retail    |\n",
      "| services | =1 if in services indus.        |\n",
      "| profserv | =1 if in prof. serv. indus.     |\n",
      "| profocc  | =1 if in profess. occupation    |\n",
      "| clerocc  | =1 if in clerical occupation    |\n",
      "| servocc  | =1 if in service occupation     |\n",
      "| lwage    | log(wage)                       |\n",
      "| expersq  | exper^2                         |\n",
      "| tenursq  | tenure^2                        |\n",
      "+----------+---------------------------------+\n",
      "\n",
      "These are data from the 1976 Current Population Survey, collected by\n",
      "Henry Farber when he and I were colleagues at MIT in 1988.\n"
     ]
    }
   ],
   "source": [
    "wl.dataWoo(name = \"wage1\", description= True)"
   ]
  },
  {
   "cell_type": "code",
   "execution_count": 4,
   "id": "37c78683-1c35-4fc1-92c8-34fa462416ab",
   "metadata": {},
   "outputs": [
    {
     "name": "stdout",
     "output_type": "stream",
     "text": [
      "   wage  educ  exper  tenure  nonwhite  female  married  numdep  smsa  \\\n",
      "0  3.10    11      2       0         0       1        0       2     1   \n",
      "1  3.24    12     22       2         0       1        1       3     1   \n",
      "2  3.00    11      2       0         0       0        0       2     0   \n",
      "3  6.00     8     44      28         0       0        1       0     1   \n",
      "4  5.30    12      7       2         0       0        1       1     0   \n",
      "\n",
      "   northcen  ...  trcommpu  trade  services  profserv  profocc  clerocc  \\\n",
      "0         0  ...         0      0         0         0        0        0   \n",
      "1         0  ...         0      0         1         0        0        0   \n",
      "2         0  ...         0      1         0         0        0        0   \n",
      "3         0  ...         0      0         0         0        0        1   \n",
      "4         0  ...         0      0         0         0        0        0   \n",
      "\n",
      "   servocc     lwage  expersq  tenursq  \n",
      "0        0  1.131402        4        0  \n",
      "1        1  1.175573      484        4  \n",
      "2        0  1.098612        4        0  \n",
      "3        0  1.791759     1936      784  \n",
      "4        0  1.667707       49        4  \n",
      "\n",
      "[5 rows x 24 columns]\n"
     ]
    }
   ],
   "source": [
    "df = wl.dataWoo(name = \"wage1\")\n",
    "print(df.head())"
   ]
  },
  {
   "cell_type": "markdown",
   "id": "d30dce1a-c739-4860-950a-9d04636337a8",
   "metadata": {},
   "source": [
    "Exploratory Data Analysis (EDA)"
   ]
  },
  {
   "cell_type": "code",
   "execution_count": 9,
   "id": "fc7529f7-b1d3-41c2-8838-05cb64a68e1e",
   "metadata": {},
   "outputs": [],
   "source": [
    "wage = df[\"wage\"]\n",
    "educ = df[\"educ\"]"
   ]
  },
  {
   "cell_type": "markdown",
   "id": "a0be6907-116e-4fca-b8ab-0423e988bfbd",
   "metadata": {},
   "source": [
    "Estimate kernel density:"
   ]
  },
  {
   "cell_type": "code",
   "execution_count": 11,
   "id": "75659bef-c4cf-4b79-a25e-757a8bce3571",
   "metadata": {},
   "outputs": [
    {
     "data": {
      "image/png": "[encoded data removed]",
      "text/plain": [
       "<Figure size 640x480 with 1 Axes>"
      ]
     },
     "metadata": {},
     "output_type": "display_data"
    }
   ],
   "source": [
    "import statsmodels.api as sm\n",
    "kde = sm.nonparametric.KDEUnivariate(wage)\n",
    "kde.fit()\n",
    "# subfigure a (kernel density):\n",
    "plt.plot(kde.support, kde.density, color=\"green\", linewidth=0.9)\n",
    "plt.ylabel(\"density\")\n",
    "plt.xlabel(\"wage\")\n",
    "plt.show()"
   ]
  },
  {
   "cell_type": "markdown",
   "id": "43303b5f-e8a2-469b-b97f-b1e592cb15dd",
   "metadata": {},
   "source": [
    "Plotting scatter plot between wage and educ"
   ]
  },
  {
   "cell_type": "code",
   "execution_count": 14,
   "id": "e9d8fa97-398b-464d-8dd4-874eb908e67e",
   "metadata": {},
   "outputs": [
    {
     "data": {
      "image/png": "[encoded data removed]",
      "text/plain": [
       "<Figure size 640x480 with 1 Axes>"
      ]
     },
     "metadata": {},
     "output_type": "display_data"
    }
   ],
   "source": [
    "plt.scatter(educ,wage)\n",
    "plt.show()"
   ]
  },
  {
   "cell_type": "code",
   "execution_count": 12,
   "id": "37f62ba6-6854-46e5-a980-7dec68f61100",
   "metadata": {},
   "outputs": [
    {
     "name": "stdout",
     "output_type": "stream",
     "text": [
      "Skew coef : 2.0073250401421583\n",
      "Kurtosis coef: 4.970082831531241\n"
     ]
    }
   ],
   "source": [
    "#Skewness and Kurtosis\n",
    "from scipy.stats import skew, kurtosis\n",
    "print(\"Skew coef :\", skew(wage)) #compared to 0\n",
    "print(\"Kurtosis coef:\", kurtosis(wage)) #compared to 0"
   ]
  },
  {
   "cell_type": "markdown",
   "id": "eedec601-33ec-446e-91fa-aba6ad6b37cd",
   "metadata": {},
   "source": [
    "Descreptive statistics:"
   ]
  },
  {
   "cell_type": "code",
   "execution_count": 16,
   "id": "098dca76-8d15-4216-af9e-25f9b03233bd",
   "metadata": {},
   "outputs": [],
   "source": [
    "dta = df.iloc[:,[0,1]] #dta is a subset from df"
   ]
  },
  {
   "cell_type": "code",
   "execution_count": 18,
   "id": "e8218b08-0b86-4831-838b-aecf9bc0350c",
   "metadata": {},
   "outputs": [
    {
     "name": "stdout",
     "output_type": "stream",
     "text": [
      "             wage        educ\n",
      "count  526.000000  526.000000\n",
      "mean     5.896103   12.562738\n",
      "std      3.693086    2.769022\n",
      "min      0.530000    0.000000\n",
      "25%      3.330000   12.000000\n",
      "50%      4.650000   12.000000\n",
      "75%      6.880000   14.000000\n",
      "max     24.980000   18.000000\n"
     ]
    }
   ],
   "source": [
    "DescriptiveStatistics = dta.describe()\n",
    "print(DescriptiveStatistics)"
   ]
  },
  {
   "cell_type": "markdown",
   "id": "3ac51845-3d74-465f-b222-be99739e3b53",
   "metadata": {},
   "source": [
    "Download the table as word document"
   ]
  },
  {
   "cell_type": "code",
   "execution_count": 33,
   "id": "6587820a-121c-4031-a437-bdc8671448a1",
   "metadata": {},
   "outputs": [
    {
     "name": "stdout",
     "output_type": "stream",
     "text": [
      "Collecting python-docx\n",
      "  Downloading python_docx-1.2.0-py3-none-any.whl.metadata (2.0 kB)\n",
      "Requirement already satisfied: lxml>=3.1.0 in c:\\anaconda\\lib\\site-packages (from python-docx) (5.3.0)\n",
      "Requirement already satisfied: typing_extensions>=4.9.0 in c:\\users\\brahim\\appdata\\roaming\\python\\python313\\site-packages (from python-docx) (4.14.1)\n",
      "Downloading python_docx-1.2.0-py3-none-any.whl (252 kB)\n",
      "Installing collected packages: python-docx\n",
      "Successfully installed python-docx-1.2.0\n"
     ]
    }
   ],
   "source": [
    "!pip install python-docx"
   ]
  },
  {
   "cell_type": "code",
   "execution_count": 19,
   "id": "16844472-ee3f-4f90-9106-c833a8367d94",
   "metadata": {},
   "outputs": [],
   "source": [
    "from docx import Document\n",
    "\n",
    "# Create a new Word document\n",
    "document_desc = Document()\n",
    "\n",
    "# Add a title\n",
    "document_desc.add_heading('DescriptiveStatistics', 0)\n",
    "\n",
    "# Add the descriptive statistics as a table\n",
    "# Get the column names (index) and add them as the first column\n",
    "columns = DescriptiveStatistics.index.tolist()\n",
    "# Add the column names from the describe output as header row\n",
    "header = DescriptiveStatistics.columns.tolist()\n",
    "table_desc = document_desc.add_table(rows=len(columns) + 1, cols=len(header) + 1)\n",
    "\n",
    "# Add header row\n",
    "table_desc.cell(0, 0).text = \"Statistic\"\n",
    "for j, col in enumerate(header):\n",
    "    table_desc.cell(0, j + 1).text = str(col)\n",
    "\n",
    "# Add data rows\n",
    "for i, col_name in enumerate(columns):\n",
    "    table_desc.cell(i + 1, 0).text = str(col_name)\n",
    "    for j, col_data in enumerate(header):\n",
    "        table_desc.cell(i + 1, j + 1).text = f\"{DescriptiveStatistics.loc[col_name, col_data]:.4f}\"\n",
    "# Save the document\n",
    "document_desc.save('descriptive_statistics.docx')"
   ]
  },
  {
   "cell_type": "markdown",
   "id": "875bca70-b562-42d0-88a7-2a232dfc7606",
   "metadata": {},
   "source": [
    "Plotting  Boxplot:"
   ]
  },
  {
   "cell_type": "code",
   "execution_count": 21,
   "id": "4c900c59-2245-4e25-b0d3-5581d02657f2",
   "metadata": {},
   "outputs": [
    {
     "data": {
      "image/png": "[encoded data removed]",
      "text/plain": [
       "<Figure size 640x480 with 1 Axes>"
      ]
     },
     "metadata": {},
     "output_type": "display_data"
    }
   ],
   "source": [
    "plt.boxplot(wage, vert=True)\n",
    "plt.ylabel(\"wage\")\n",
    "plt.show()"
   ]
  },
  {
   "cell_type": "markdown",
   "id": "a956087c-130c-48a6-a06a-e997edb7a281",
   "metadata": {},
   "source": [
    "# Simple OLS Linear Regression Manual Calculation"
   ]
  },
  {
   "cell_type": "code",
   "execution_count": 23,
   "id": "b9f12b1c-aca8-41ea-9990-ca19bddd2b6a",
   "metadata": {},
   "outputs": [
    {
     "name": "stdout",
     "output_type": "stream",
     "text": [
      "4.150863998572982\n",
      "b1_hat is: -0.9178058105986358\n",
      "b0_hat is: 0.5423904151502517\n"
     ]
    }
   ],
   "source": [
    "# ingredients to the OLS formulas:\n",
    "cov_xy = np.cov(educ,wage)[0,1]\n",
    "print(cov_xy)\n",
    "# The output is a 2x2 covariance matrix where:\n",
    "# The element at [0,0] is the variance of x.\n",
    "# The element at [1,1] is the variance of y.\n",
    "# The element at [0,1] is the covariance of x with y.\n",
    "# The element at [1,0] is the covariance of y with x. \n",
    "var_x = np.var(educ)\n",
    "x_bar = np.mean(educ)\n",
    "y_bar = np.mean(wage)\n",
    "# manual calculation of OLS coefficients:\n",
    "b1_hat = cov_xy / var_x\n",
    "b0_hat = y_bar - b1_hat * x_bar\n",
    "print(\"b1_hat is:\", b0_hat)\n",
    "print(\"b0_hat is:\", b1_hat)"
   ]
  },
  {
   "cell_type": "markdown",
   "id": "4d69ae98-8779-47bc-b509-be2b8c9cd161",
   "metadata": {},
   "source": [
    "# Simple OLS Linear Regression Using statsmodels.api "
   ]
  },
  {
   "cell_type": "code",
   "execution_count": 24,
   "id": "52593083-b662-42d9-b7d5-0fdab4d7f237",
   "metadata": {},
   "outputs": [],
   "source": [
    "import statsmodels.api as sm\n",
    "x = educ\n",
    "y = wage\n",
    "x_with_const = sm.add_constant(x)\n",
    "model = sm.OLS(y, x_with_const)\n",
    "results = model.fit()"
   ]
  },
  {
   "cell_type": "markdown",
   "id": "f67c8100-eff6-499a-b2b2-fdc681e8da41",
   "metadata": {},
   "source": [
    "Print the summary of the results."
   ]
  },
  {
   "cell_type": "code",
   "execution_count": 25,
   "id": "aa8169f4-c52f-4ceb-9983-d164f8d4c3cf",
   "metadata": {
    "scrolled": true
   },
   "outputs": [
    {
     "name": "stdout",
     "output_type": "stream",
     "text": [
      "                            OLS Regression Results                            \n",
      "==============================================================================\n",
      "Dep. Variable:                   wage   R-squared:                       0.165\n",
      "Model:                            OLS   Adj. R-squared:                  0.163\n",
      "Method:                 Least Squares   F-statistic:                     103.4\n",
      "Date:                Fri, 03 Oct 2025   Prob (F-statistic):           2.78e-22\n",
      "Time:                        10:18:14   Log-Likelihood:                -1385.7\n",
      "No. Observations:                 526   AIC:                             2775.\n",
      "Df Residuals:                     524   BIC:                             2784.\n",
      "Df Model:                           1                                         \n",
      "Covariance Type:            nonrobust                                         \n",
      "==============================================================================\n",
      "                 coef    std err          t      P>|t|      [0.025      0.975]\n",
      "------------------------------------------------------------------------------\n",
      "const         -0.9049      0.685     -1.321      0.187      -2.250       0.441\n",
      "educ           0.5414      0.053     10.167      0.000       0.437       0.646\n",
      "==============================================================================\n",
      "Omnibus:                      212.554   Durbin-Watson:                   1.824\n",
      "Prob(Omnibus):                  0.000   Jarque-Bera (JB):              807.843\n",
      "Skew:                           1.861   Prob(JB):                    3.79e-176\n",
      "Kurtosis:                       7.797   Cond. No.                         60.2\n",
      "==============================================================================\n",
      "\n",
      "Notes:\n",
      "[1] Standard Errors assume that the covariance matrix of the errors is correctly specified.\n"
     ]
    }
   ],
   "source": [
    "print(results.summary())"
   ]
  },
  {
   "cell_type": "markdown",
   "id": "50a6cbd4-d0f0-4616-8a72-f4aa0b496809",
   "metadata": {},
   "source": [
    "# Simple OLS Linear Regression Using statsmodels.formula.api "
   ]
  },
  {
   "cell_type": "code",
   "execution_count": 26,
   "id": "dec38b09-6c9c-4586-9dc5-56c144adb5b3",
   "metadata": {},
   "outputs": [
    {
     "name": "stdout",
     "output_type": "stream",
     "text": [
      "                            OLS Regression Results                            \n",
      "==============================================================================\n",
      "Dep. Variable:                      y   R-squared:                       0.165\n",
      "Model:                            OLS   Adj. R-squared:                  0.163\n",
      "Method:                 Least Squares   F-statistic:                     103.4\n",
      "Date:                Fri, 03 Oct 2025   Prob (F-statistic):           2.78e-22\n",
      "Time:                        10:18:17   Log-Likelihood:                -1385.7\n",
      "No. Observations:                 526   AIC:                             2775.\n",
      "Df Residuals:                     524   BIC:                             2784.\n",
      "Df Model:                           1                                         \n",
      "Covariance Type:            nonrobust                                         \n",
      "==============================================================================\n",
      "                 coef    std err          t      P>|t|      [0.025      0.975]\n",
      "------------------------------------------------------------------------------\n",
      "Intercept     -0.9049      0.685     -1.321      0.187      -2.250       0.441\n",
      "x              0.5414      0.053     10.167      0.000       0.437       0.646\n",
      "==============================================================================\n",
      "Omnibus:                      212.554   Durbin-Watson:                   1.824\n",
      "Prob(Omnibus):                  0.000   Jarque-Bera (JB):              807.843\n",
      "Skew:                           1.861   Prob(JB):                    3.79e-176\n",
      "Kurtosis:                       7.797   Cond. No.                         60.2\n",
      "==============================================================================\n",
      "\n",
      "Notes:\n",
      "[1] Standard Errors assume that the covariance matrix of the errors is correctly specified.\n",
      "Intercept   -0.904852\n",
      "x            0.541359\n",
      "dtype: float64\n"
     ]
    }
   ],
   "source": [
    "import statsmodels.formula.api as smf\n",
    "model = smf.ols(formula = 'y~x', data = df)\n",
    "results = model.fit()\n",
    "print(results.summary())\n",
    "par = results.params\n",
    "print(par)"
   ]
  },
  {
   "cell_type": "markdown",
   "id": "1684682a-cca2-400c-bdcc-24cdd25608fe",
   "metadata": {},
   "source": [
    "Results functions / tools"
   ]
  },
  {
   "cell_type": "code",
   "execution_count": 27,
   "id": "1523dabb-cf60-4889-8e5a-fb907e154fdf",
   "metadata": {},
   "outputs": [],
   "source": [
    "#results.summary()\n",
    "#results.params\n",
    "#results.fittedvalues y_hat\n",
    "#results.resid  "
   ]
  },
  {
   "cell_type": "markdown",
   "id": "61584c5c-d288-49be-8529-c622e7c96525",
   "metadata": {},
   "source": [
    "Plot the wage vs educ, adding a line representing the least squares fit."
   ]
  },
  {
   "cell_type": "code",
   "execution_count": 28,
   "id": "6e36753b-61f8-403b-9068-53c2533c17c9",
   "metadata": {},
   "outputs": [
    {
     "data": {
      "image/png": "[encoded data removed]",
      "text/plain": [
       "<Figure size 640x480 with 1 Axes>"
      ]
     },
     "metadata": {},
     "output_type": "display_data"
    }
   ],
   "source": [
    "# scatter plot and fitted values:\n",
    "plt.scatter(x, y, color= \"green\", marker=\"o\")\n",
    "plt.plot(x, results.fittedvalues, color=\"black\", linestyle=\"--\")\n",
    "#plt.plot(x, results.fittedvalues, \"--r\")\n",
    "\n",
    "plt.title(\"Plot the wage vs educ, adding a line representing the least squares fit.\", size= 8)\n",
    "plt.ylabel(\"wage\")\n",
    "plt.xlabel(\"educ\")\n",
    "plt.show()"
   ]
  },
  {
   "cell_type": "markdown",
   "id": "b19d0a7f-5222-4ea1-9429-236d04f81c6a",
   "metadata": {},
   "source": [
    "Obtain predicted values and residuals:"
   ]
  },
  {
   "cell_type": "code",
   "execution_count": 29,
   "id": "f3878f9f-ebd1-4b49-89d9-97bcec573271",
   "metadata": {},
   "outputs": [
    {
     "name": "stdout",
     "output_type": "stream",
     "text": [
      "   educ   wage  wage_hat  residuals\n",
      "0    11   3.10  5.050100  -1.950100\n",
      "1    12   3.24  5.591459  -2.351459\n",
      "2    11   3.00  5.050100  -2.050100\n",
      "3     8   6.00  3.426022   2.573978\n",
      "4    12   5.30  5.591459  -0.291459\n",
      "5    16   8.75  7.756896   0.993104\n",
      "6    18  11.25  8.839615   2.410385\n",
      "7    12   5.00  5.591459  -0.591459\n",
      "8    12   3.60  5.591459  -1.991460\n",
      "9    17  18.18  8.298256   9.881745\n"
     ]
    }
   ],
   "source": [
    "y_hat = results.fittedvalues\n",
    "u_hat = results.resid\n",
    "table = pd.DataFrame({\"educ\": x,\n",
    "\"wage\": y,\n",
    "\"wage_hat\": y_hat,\n",
    "\"residuals\": u_hat})\n",
    "\n",
    "print(table.head(10))\n",
    "\n",
    "#5.05 = -0.90 + 0.54*11\n",
    "#5.59 = -0.90 + 0.54*12"
   ]
  },
  {
   "cell_type": "markdown",
   "id": "c37d53bc-cc97-4b7e-9f77-f351ae3e8a04",
   "metadata": {},
   "source": [
    "Check OLS Properties"
   ]
  },
  {
   "cell_type": "code",
   "execution_count": 30,
   "id": "a93b58a6-4bf5-4e4c-b018-c5d59763782b",
   "metadata": {},
   "outputs": [
    {
     "name": "stdout",
     "output_type": "stream",
     "text": [
      "Intercept   -0.904852\n",
      "x            0.541359\n",
      "dtype: float64\n",
      "u_hat_mean: -8.159083885914459e-15\n",
      "x_u_cov: 1.258675703346463e-15\n",
      "y_pred: 5.896102674787044\n",
      "y_mean: 5.896102674787044\n"
     ]
    }
   ],
   "source": [
    "# obtain coefficients, predicted values and residuals:\n",
    "b = results.params\n",
    "print(b)\n",
    "y_hat = results.fittedvalues\n",
    "u_hat = results.resid\n",
    "# confirm property (1):\n",
    "u_hat_mean = np.mean(u_hat)\n",
    "print(\"u_hat_mean:\", u_hat_mean)\n",
    "# confirm property (2):\n",
    "x_u_cov = np.cov(x, u_hat)[1, 0]\n",
    "print(\"x_u_cov:\", x_u_cov)\n",
    "# confirm property (3):\n",
    "x_mean = np.mean(x)\n",
    "y_pred = b.iloc[0] + b.iloc[1] * x_mean #y_hat function\n",
    "print(\"y_pred:\", y_pred)\n",
    "y_mean = np.mean(y_pred)\n",
    "print(\"y_mean:\", y_mean)"
   ]
  },
  {
   "cell_type": "markdown",
   "id": "47ef5cca-8d45-4560-bdde-03220e5ec648",
   "metadata": {},
   "source": [
    "# Multiple Regression Analysis"
   ]
  },
  {
   "cell_type": "code",
   "execution_count": 32,
   "id": "a7393231-4cd3-4211-84b9-a2e852838353",
   "metadata": {},
   "outputs": [
    {
     "name": "stdout",
     "output_type": "stream",
     "text": [
      "                            OLS Regression Results                            \n",
      "==============================================================================\n",
      "Dep. Variable:                   wage   R-squared:                       0.306\n",
      "Model:                            OLS   Adj. R-squared:                  0.302\n",
      "Method:                 Least Squares   F-statistic:                     76.87\n",
      "Date:                Fri, 03 Oct 2025   Prob (F-statistic):           3.41e-41\n",
      "Time:                        10:18:46   Log-Likelihood:                -1336.8\n",
      "No. Observations:                 526   AIC:                             2682.\n",
      "Df Residuals:                     522   BIC:                             2699.\n",
      "Df Model:                           3                                         \n",
      "Covariance Type:            nonrobust                                         \n",
      "==============================================================================\n",
      "                 coef    std err          t      P>|t|      [0.025      0.975]\n",
      "------------------------------------------------------------------------------\n",
      "Intercept     -2.8727      0.729     -3.941      0.000      -4.305      -1.441\n",
      "educ           0.5990      0.051     11.679      0.000       0.498       0.700\n",
      "exper          0.0223      0.012      1.853      0.064      -0.001       0.046\n",
      "tenure         0.1693      0.022      7.820      0.000       0.127       0.212\n",
      "==============================================================================\n",
      "Omnibus:                      179.597   Durbin-Watson:                   1.791\n",
      "Prob(Omnibus):                  0.000   Jarque-Bera (JB):              650.808\n",
      "Skew:                           1.555   Prob(JB):                    4.77e-142\n",
      "Kurtosis:                       7.475   Cond. No.                         135.\n",
      "==============================================================================\n",
      "\n",
      "Notes:\n",
      "[1] Standard Errors assume that the covariance matrix of the errors is correctly specified.\n"
     ]
    }
   ],
   "source": [
    "model = smf.ols(\"wage~educ + exper + tenure\", data = df)\n",
    "results = model.fit()\n",
    "print(results.summary())"
   ]
  },
  {
   "cell_type": "markdown",
   "id": "224dd43b-d6d5-4ee1-815e-12dd54cf55a9",
   "metadata": {},
   "source": [
    "# Regression Diagnostics"
   ]
  },
  {
   "cell_type": "markdown",
   "id": "7423e6c2-19c3-4205-a6e6-6843d8283877",
   "metadata": {},
   "source": [
    "## Heteroscedasticity Tests"
   ]
  },
  {
   "cell_type": "markdown",
   "id": "d27551ca-a6fc-444a-b52c-3d1fc960dc5f",
   "metadata": {},
   "source": [
    "1. Breusch-Pagan Lagrange Multiplier test"
   ]
  },
  {
   "cell_type": "code",
   "execution_count": 33,
   "id": "41809842-6481-42d3-bd47-23dd6095dc4c",
   "metadata": {},
   "outputs": [
    {
     "data": {
      "text/plain": [
       "[('breuschpagan statistic', np.float64(43.095617434641106)),\n",
       " ('p-value', np.float64(2.3486063795662544e-09))]"
      ]
     },
     "execution_count": 33,
     "metadata": {},
     "output_type": "execute_result"
    }
   ],
   "source": [
    "from statsmodels.stats.diagnostic import het_breuschpagan\n",
    "\n",
    "name = [\"breuschpagan statistic\", \"p-value\"]\n",
    "test = het_breuschpagan(results.resid, results.model.exog)\n",
    "list(zip(name, test))"
   ]
  },
  {
   "cell_type": "markdown",
   "id": "d3f90dc4-2d70-4110-ae87-1b5855c39dd2",
   "metadata": {},
   "source": [
    "2. Lagrange Multiplier Heteroscedasticity Test by White"
   ]
  },
  {
   "cell_type": "code",
   "execution_count": 67,
   "id": "df2fbe86-b0a0-470b-8228-cca8ec11ed00",
   "metadata": {},
   "outputs": [
    {
     "data": {
      "text/plain": [
       "[('White  statistic', np.float64(20.741466032626786)),\n",
       " ('p-value', np.float64(0.013849153279925664))]"
      ]
     },
     "execution_count": 67,
     "metadata": {},
     "output_type": "execute_result"
    }
   ],
   "source": [
    "from statsmodels.stats.diagnostic import het_white\n",
    "\n",
    "name = [\"White  statistic\", \"p-value\"]\n",
    "test = het_white(results.resid, results.model.exog)\n",
    "list(zip(name, test))"
   ]
  },
  {
   "cell_type": "code",
   "execution_count": 64,
   "id": "6c896546-c7ae-41c8-8968-fdd59d326352",
   "metadata": {},
   "outputs": [
    {
     "data": {
      "text/html": [
       "<div>\n",
       "<style scoped>\n",
       "    .dataframe tbody tr th:only-of-type {\n",
       "        vertical-align: middle;\n",
       "    }\n",
       "\n",
       "    .dataframe tbody tr th {\n",
       "        vertical-align: top;\n",
       "    }\n",
       "\n",
       "    .dataframe thead th {\n",
       "        text-align: right;\n",
       "    }\n",
       "</style>\n",
       "<table border=\"1\" class=\"dataframe\">\n",
       "  <thead>\n",
       "    <tr style=\"text-align: right;\">\n",
       "      <th></th>\n",
       "      <th>wage</th>\n",
       "      <th>educ</th>\n",
       "      <th>exper</th>\n",
       "      <th>tenure</th>\n",
       "      <th>nonwhite</th>\n",
       "      <th>female</th>\n",
       "      <th>married</th>\n",
       "      <th>numdep</th>\n",
       "      <th>smsa</th>\n",
       "      <th>northcen</th>\n",
       "      <th>...</th>\n",
       "      <th>trcommpu</th>\n",
       "      <th>trade</th>\n",
       "      <th>services</th>\n",
       "      <th>profserv</th>\n",
       "      <th>profocc</th>\n",
       "      <th>clerocc</th>\n",
       "      <th>servocc</th>\n",
       "      <th>lwage</th>\n",
       "      <th>expersq</th>\n",
       "      <th>tenursq</th>\n",
       "    </tr>\n",
       "  </thead>\n",
       "  <tbody>\n",
       "    <tr>\n",
       "      <th>0</th>\n",
       "      <td>3.10</td>\n",
       "      <td>11</td>\n",
       "      <td>2</td>\n",
       "      <td>0</td>\n",
       "      <td>0</td>\n",
       "      <td>1</td>\n",
       "      <td>0</td>\n",
       "      <td>2</td>\n",
       "      <td>1</td>\n",
       "      <td>0</td>\n",
       "      <td>...</td>\n",
       "      <td>0</td>\n",
       "      <td>0</td>\n",
       "      <td>0</td>\n",
       "      <td>0</td>\n",
       "      <td>0</td>\n",
       "      <td>0</td>\n",
       "      <td>0</td>\n",
       "      <td>1.131402</td>\n",
       "      <td>4</td>\n",
       "      <td>0</td>\n",
       "    </tr>\n",
       "    <tr>\n",
       "      <th>1</th>\n",
       "      <td>3.24</td>\n",
       "      <td>12</td>\n",
       "      <td>22</td>\n",
       "      <td>2</td>\n",
       "      <td>0</td>\n",
       "      <td>1</td>\n",
       "      <td>1</td>\n",
       "      <td>3</td>\n",
       "      <td>1</td>\n",
       "      <td>0</td>\n",
       "      <td>...</td>\n",
       "      <td>0</td>\n",
       "      <td>0</td>\n",
       "      <td>1</td>\n",
       "      <td>0</td>\n",
       "      <td>0</td>\n",
       "      <td>0</td>\n",
       "      <td>1</td>\n",
       "      <td>1.175573</td>\n",
       "      <td>484</td>\n",
       "      <td>4</td>\n",
       "    </tr>\n",
       "    <tr>\n",
       "      <th>2</th>\n",
       "      <td>3.00</td>\n",
       "      <td>11</td>\n",
       "      <td>2</td>\n",
       "      <td>0</td>\n",
       "      <td>0</td>\n",
       "      <td>0</td>\n",
       "      <td>0</td>\n",
       "      <td>2</td>\n",
       "      <td>0</td>\n",
       "      <td>0</td>\n",
       "      <td>...</td>\n",
       "      <td>0</td>\n",
       "      <td>1</td>\n",
       "      <td>0</td>\n",
       "      <td>0</td>\n",
       "      <td>0</td>\n",
       "      <td>0</td>\n",
       "      <td>0</td>\n",
       "      <td>1.098612</td>\n",
       "      <td>4</td>\n",
       "      <td>0</td>\n",
       "    </tr>\n",
       "    <tr>\n",
       "      <th>3</th>\n",
       "      <td>6.00</td>\n",
       "      <td>8</td>\n",
       "      <td>44</td>\n",
       "      <td>28</td>\n",
       "      <td>0</td>\n",
       "      <td>0</td>\n",
       "      <td>1</td>\n",
       "      <td>0</td>\n",
       "      <td>1</td>\n",
       "      <td>0</td>\n",
       "      <td>...</td>\n",
       "      <td>0</td>\n",
       "      <td>0</td>\n",
       "      <td>0</td>\n",
       "      <td>0</td>\n",
       "      <td>0</td>\n",
       "      <td>1</td>\n",
       "      <td>0</td>\n",
       "      <td>1.791759</td>\n",
       "      <td>1936</td>\n",
       "      <td>784</td>\n",
       "    </tr>\n",
       "    <tr>\n",
       "      <th>4</th>\n",
       "      <td>5.30</td>\n",
       "      <td>12</td>\n",
       "      <td>7</td>\n",
       "      <td>2</td>\n",
       "      <td>0</td>\n",
       "      <td>0</td>\n",
       "      <td>1</td>\n",
       "      <td>1</td>\n",
       "      <td>0</td>\n",
       "      <td>0</td>\n",
       "      <td>...</td>\n",
       "      <td>0</td>\n",
       "      <td>0</td>\n",
       "      <td>0</td>\n",
       "      <td>0</td>\n",
       "      <td>0</td>\n",
       "      <td>0</td>\n",
       "      <td>0</td>\n",
       "      <td>1.667707</td>\n",
       "      <td>49</td>\n",
       "      <td>4</td>\n",
       "    </tr>\n",
       "    <tr>\n",
       "      <th>...</th>\n",
       "      <td>...</td>\n",
       "      <td>...</td>\n",
       "      <td>...</td>\n",
       "      <td>...</td>\n",
       "      <td>...</td>\n",
       "      <td>...</td>\n",
       "      <td>...</td>\n",
       "      <td>...</td>\n",
       "      <td>...</td>\n",
       "      <td>...</td>\n",
       "      <td>...</td>\n",
       "      <td>...</td>\n",
       "      <td>...</td>\n",
       "      <td>...</td>\n",
       "      <td>...</td>\n",
       "      <td>...</td>\n",
       "      <td>...</td>\n",
       "      <td>...</td>\n",
       "      <td>...</td>\n",
       "      <td>...</td>\n",
       "      <td>...</td>\n",
       "    </tr>\n",
       "    <tr>\n",
       "      <th>521</th>\n",
       "      <td>15.00</td>\n",
       "      <td>16</td>\n",
       "      <td>14</td>\n",
       "      <td>2</td>\n",
       "      <td>0</td>\n",
       "      <td>1</td>\n",
       "      <td>1</td>\n",
       "      <td>2</td>\n",
       "      <td>0</td>\n",
       "      <td>0</td>\n",
       "      <td>...</td>\n",
       "      <td>0</td>\n",
       "      <td>0</td>\n",
       "      <td>0</td>\n",
       "      <td>1</td>\n",
       "      <td>1</td>\n",
       "      <td>0</td>\n",
       "      <td>0</td>\n",
       "      <td>2.708050</td>\n",
       "      <td>196</td>\n",
       "      <td>4</td>\n",
       "    </tr>\n",
       "    <tr>\n",
       "      <th>522</th>\n",
       "      <td>2.27</td>\n",
       "      <td>10</td>\n",
       "      <td>2</td>\n",
       "      <td>0</td>\n",
       "      <td>0</td>\n",
       "      <td>1</td>\n",
       "      <td>0</td>\n",
       "      <td>3</td>\n",
       "      <td>0</td>\n",
       "      <td>0</td>\n",
       "      <td>...</td>\n",
       "      <td>0</td>\n",
       "      <td>1</td>\n",
       "      <td>0</td>\n",
       "      <td>0</td>\n",
       "      <td>1</td>\n",
       "      <td>0</td>\n",
       "      <td>0</td>\n",
       "      <td>0.819780</td>\n",
       "      <td>4</td>\n",
       "      <td>0</td>\n",
       "    </tr>\n",
       "    <tr>\n",
       "      <th>523</th>\n",
       "      <td>4.67</td>\n",
       "      <td>15</td>\n",
       "      <td>13</td>\n",
       "      <td>18</td>\n",
       "      <td>0</td>\n",
       "      <td>0</td>\n",
       "      <td>1</td>\n",
       "      <td>3</td>\n",
       "      <td>0</td>\n",
       "      <td>0</td>\n",
       "      <td>...</td>\n",
       "      <td>0</td>\n",
       "      <td>0</td>\n",
       "      <td>0</td>\n",
       "      <td>0</td>\n",
       "      <td>1</td>\n",
       "      <td>0</td>\n",
       "      <td>0</td>\n",
       "      <td>1.541159</td>\n",
       "      <td>169</td>\n",
       "      <td>324</td>\n",
       "    </tr>\n",
       "    <tr>\n",
       "      <th>524</th>\n",
       "      <td>11.56</td>\n",
       "      <td>16</td>\n",
       "      <td>5</td>\n",
       "      <td>1</td>\n",
       "      <td>0</td>\n",
       "      <td>0</td>\n",
       "      <td>1</td>\n",
       "      <td>0</td>\n",
       "      <td>0</td>\n",
       "      <td>0</td>\n",
       "      <td>...</td>\n",
       "      <td>0</td>\n",
       "      <td>0</td>\n",
       "      <td>0</td>\n",
       "      <td>0</td>\n",
       "      <td>0</td>\n",
       "      <td>0</td>\n",
       "      <td>0</td>\n",
       "      <td>2.447551</td>\n",
       "      <td>25</td>\n",
       "      <td>1</td>\n",
       "    </tr>\n",
       "    <tr>\n",
       "      <th>525</th>\n",
       "      <td>3.50</td>\n",
       "      <td>14</td>\n",
       "      <td>5</td>\n",
       "      <td>4</td>\n",
       "      <td>1</td>\n",
       "      <td>1</td>\n",
       "      <td>0</td>\n",
       "      <td>2</td>\n",
       "      <td>0</td>\n",
       "      <td>0</td>\n",
       "      <td>...</td>\n",
       "      <td>0</td>\n",
       "      <td>0</td>\n",
       "      <td>0</td>\n",
       "      <td>1</td>\n",
       "      <td>0</td>\n",
       "      <td>1</td>\n",
       "      <td>0</td>\n",
       "      <td>1.252763</td>\n",
       "      <td>25</td>\n",
       "      <td>16</td>\n",
       "    </tr>\n",
       "  </tbody>\n",
       "</table>\n",
       "<p>526 rows × 24 columns</p>\n",
       "</div>"
      ],
      "text/plain": [
       "      wage  educ  exper  tenure  nonwhite  female  married  numdep  smsa  \\\n",
       "0     3.10    11      2       0         0       1        0       2     1   \n",
       "1     3.24    12     22       2         0       1        1       3     1   \n",
       "2     3.00    11      2       0         0       0        0       2     0   \n",
       "3     6.00     8     44      28         0       0        1       0     1   \n",
       "4     5.30    12      7       2         0       0        1       1     0   \n",
       "..     ...   ...    ...     ...       ...     ...      ...     ...   ...   \n",
       "521  15.00    16     14       2         0       1        1       2     0   \n",
       "522   2.27    10      2       0         0       1        0       3     0   \n",
       "523   4.67    15     13      18         0       0        1       3     0   \n",
       "524  11.56    16      5       1         0       0        1       0     0   \n",
       "525   3.50    14      5       4         1       1        0       2     0   \n",
       "\n",
       "     northcen  ...  trcommpu  trade  services  profserv  profocc  clerocc  \\\n",
       "0           0  ...         0      0         0         0        0        0   \n",
       "1           0  ...         0      0         1         0        0        0   \n",
       "2           0  ...         0      1         0         0        0        0   \n",
       "3           0  ...         0      0         0         0        0        1   \n",
       "4           0  ...         0      0         0         0        0        0   \n",
       "..        ...  ...       ...    ...       ...       ...      ...      ...   \n",
       "521         0  ...         0      0         0         1        1        0   \n",
       "522         0  ...         0      1         0         0        1        0   \n",
       "523         0  ...         0      0         0         0        1        0   \n",
       "524         0  ...         0      0         0         0        0        0   \n",
       "525         0  ...         0      0         0         1        0        1   \n",
       "\n",
       "     servocc     lwage  expersq  tenursq  \n",
       "0          0  1.131402        4        0  \n",
       "1          1  1.175573      484        4  \n",
       "2          0  1.098612        4        0  \n",
       "3          0  1.791759     1936      784  \n",
       "4          0  1.667707       49        4  \n",
       "..       ...       ...      ...      ...  \n",
       "521        0  2.708050      196        4  \n",
       "522        0  0.819780        4        0  \n",
       "523        0  1.541159      169      324  \n",
       "524        0  2.447551       25        1  \n",
       "525        0  1.252763       25       16  \n",
       "\n",
       "[526 rows x 24 columns]"
      ]
     },
     "execution_count": 64,
     "metadata": {},
     "output_type": "execute_result"
    }
   ],
   "source": [
    "df[:]"
   ]
  },
  {
   "cell_type": "markdown",
   "id": "51b1715f-f345-4e04-8b45-ca6a3498c898",
   "metadata": {},
   "source": [
    "# Autocorrelation Tests"
   ]
  },
  {
   "cell_type": "markdown",
   "id": "95ef2eec-17b3-49f7-b209-3304eb548615",
   "metadata": {},
   "source": [
    "1. Breusch-Godfrey Lagrange Multiplier tests for residual autocorrelation."
   ]
  },
  {
   "cell_type": "code",
   "execution_count": 69,
   "id": "bd54ab5f-6c5a-4fc7-869c-1709afe575fc",
   "metadata": {},
   "outputs": [
    {
     "data": {
      "text/plain": [
       "[('breusch_godfrey statistic', np.float64(10.73517937005533)),\n",
       " ('p-value', np.float64(0.3785187866742687))]"
      ]
     },
     "execution_count": 69,
     "metadata": {},
     "output_type": "execute_result"
    }
   ],
   "source": [
    "from statsmodels.stats.diagnostic import acorr_breusch_godfrey \n",
    "name = [\"breusch_godfrey statistic\", \"p-value\"]\n",
    "\n",
    "test = acorr_breusch_godfrey(results, nlags=None, store=False)\n",
    "list(zip(name, test))"
   ]
  },
  {
   "cell_type": "markdown",
   "id": "5e4a6af5-f4b8-4f7c-bc23-d6d0fd20a468",
   "metadata": {},
   "source": [
    "# Multicollinearity Tests"
   ]
  },
  {
   "cell_type": "markdown",
   "id": "c75596b8-f765-47b2-bec6-011d51114f80",
   "metadata": {},
   "source": [
    "1. Correlation matrix"
   ]
  },
  {
   "cell_type": "code",
   "execution_count": 78,
   "id": "495b6116-c265-4e0e-b105-83c4339b420e",
   "metadata": {},
   "outputs": [
    {
     "data": {
      "image/png": "[encoded data removed]",
      "text/plain": [
       "<Figure size 1000x600 with 2 Axes>"
      ]
     },
     "metadata": {},
     "output_type": "display_data"
    }
   ],
   "source": [
    "import seaborn as sns\n",
    "df_mlr = df.iloc[:, [0,1,2,3]]\n",
    "df_mlr_without_y = df_mlr.drop(\"wage\", axis=1)\n",
    "# Correlation matrix\n",
    "correlation_matrix = df_mlr_without_y.corr()\n",
    "\n",
    "# Set up the matplotlib figure\n",
    "plt.figure(figsize=(10, 6))\n",
    "\n",
    "# Create a heatmap for the correlation matrix\n",
    "sns.heatmap(correlation_matrix, annot=True, cmap=\"coolwarm\", fmt=\".2f\", linewidths=0.8)\n",
    "\n",
    "# Title for the heatmap\n",
    "plt.title(\"Correlation Heatmap\", fontsize=16)\n",
    "\n",
    "# Show the heatmap\n",
    "plt.show()"
   ]
  },
  {
   "cell_type": "code",
   "execution_count": 79,
   "id": "36c227a7-8381-4366-89ec-401b9b405c78",
   "metadata": {},
   "outputs": [
    {
     "name": "stdout",
     "output_type": "stream",
     "text": [
      "     educ  exper  tenure\n",
      "0      11      2       0\n",
      "1      12     22       2\n",
      "2      11      2       0\n",
      "3       8     44      28\n",
      "4      12      7       2\n",
      "..    ...    ...     ...\n",
      "521    16     14       2\n",
      "522    10      2       0\n",
      "523    15     13      18\n",
      "524    16      5       1\n",
      "525    14      5       4\n",
      "\n",
      "[526 rows x 3 columns]\n"
     ]
    }
   ],
   "source": [
    "#df.corr()\n",
    "#df_mlr = df.iloc[:,[0,1,2,3]]\n",
    "#print(df_mlr)\n",
    "#df_mlr.corr()\n",
    "print(df_mlr_without_y)"
   ]
  },
  {
   "cell_type": "markdown",
   "id": "d72814b2-c992-4fba-a11b-0224debd36de",
   "metadata": {},
   "source": [
    "2. Variance Inflation Fctor VIF"
   ]
  },
  {
   "cell_type": "code",
   "execution_count": 84,
   "id": "7d273f4a-e874-4afc-a98a-5ded52850179",
   "metadata": {},
   "outputs": [
    {
     "name": "stdout",
     "output_type": "stream",
     "text": [
      "3\n",
      "  feature     VIF\n",
      "0    educ  2.1160\n",
      "1   exper  2.9207\n",
      "2  tenure  2.0075\n"
     ]
    }
   ],
   "source": [
    "import pandas as pd\n",
    "from statsmodels.stats.outliers_influence import variance_inflation_factor\n",
    "\n",
    "# Calculate VIF for each numerical feature\n",
    "vif_data = pd.DataFrame()\n",
    "vif_data[\"feature\"] = df_mlr_without_y.columns\n",
    "\n",
    "# Calculate VIF and round to 4 decimal places\n",
    "print(df_mlr_without_y.shape[1])\n",
    "vif_data[\"VIF\"] = [round(variance_inflation_factor(df_mlr_without_y.values, i), 4) for i in range(df_mlr_without_y.shape[1])]\n",
    "# Sort VIF values in descending order\n",
    "#vif_data = vif_data.sort_values(by=\"VIF\", ascending=False)\n",
    "\n",
    "# Display the VIF DataFrame\n",
    "print(vif_data)"
   ]
  },
  {
   "cell_type": "markdown",
   "id": "e006da2b-a9cc-4510-8efd-2d1cfb610bf1",
   "metadata": {},
   "source": [
    "# Normality and Distribution Tests"
   ]
  },
  {
   "cell_type": "markdown",
   "id": "b930affe-a448-4648-af8c-080090f16876",
   "metadata": {},
   "source": [
    "1. Jarque Bera Test"
   ]
  },
  {
   "cell_type": "code",
   "execution_count": 85,
   "id": "0e916e9f-0421-402a-afd0-e5344fcc784a",
   "metadata": {},
   "outputs": [
    {
     "data": {
      "text/plain": [
       "[('Jarque-Bera test', np.float64(650.8075112915257)),\n",
       " ('Chi^2 two-tail prob.', np.float64(4.7746828810973804e-142))]"
      ]
     },
     "execution_count": 85,
     "metadata": {},
     "output_type": "execute_result"
    }
   ],
   "source": [
    "from scipy.stats import jarque_bera\n",
    "name = [\"Jarque-Bera test\", \"Chi^2 two-tail prob.\"]\n",
    "test = jarque_bera(results.resid)\n",
    "list(zip(name, test))"
   ]
  },
  {
   "cell_type": "code",
   "execution_count": 89,
   "id": "8198a0d0-9918-47a7-8a0b-09d554516703",
   "metadata": {},
   "outputs": [
    {
     "data": {
      "image/png": "[encoded data removed]",
      "text/plain": [
       "<Figure size 640x480 with 1 Axes>"
      ]
     },
     "metadata": {},
     "output_type": "display_data"
    },
    {
     "data": {
      "image/png": "[encoded data removed]",
      "text/plain": [
       "<Figure size 640x480 with 1 Axes>"
      ]
     },
     "metadata": {},
     "output_type": "display_data"
    }
   ],
   "source": [
    "plt.plot(results.resid)\n",
    "plt.show()\n",
    "plt.hist(results.resid)\n",
    "plt.show()"
   ]
  },
  {
   "cell_type": "code",
   "execution_count": null,
   "id": "a0ba4e13-7601-4c63-9db5-2fa9d3a34ae5",
   "metadata": {},
   "outputs": [],
   "source": []
  }
 ],
 "metadata": {
  "kernelspec": {
   "display_name": "Python 3 (ipykernel)",
   "language": "python",
   "name": "python3"
  },
  "language_info": {
   "codemirror_mode": {
    "name": "ipython",
    "version": 3
   },
   "file_extension": ".py",
   "mimetype": "text/x-python",
   "name": "python",
   "nbconvert_exporter": "python",
   "pygments_lexer": "ipython3",
   "version": "3.13.5"
  }
 },
 "nbformat": 4,
 "nbformat_minor": 5
}
